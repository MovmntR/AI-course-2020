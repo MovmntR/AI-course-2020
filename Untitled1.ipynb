{
  "nbformat": 4,
  "nbformat_minor": 0,
  "metadata": {
    "colab": {
      "name": "Untitled1.ipynb",
      "provenance": [],
      "include_colab_link": true
    },
    "kernelspec": {
      "name": "python3",
      "display_name": "Python 3"
    }
  },
  "cells": [
    {
      "cell_type": "markdown",
      "metadata": {
        "id": "view-in-github",
        "colab_type": "text"
      },
      "source": [
        "<a href=\"https://colab.research.google.com/github/MovmntR/AI-course-2020/blob/master/Untitled1.ipynb\" target=\"_parent\"><img src=\"https://colab.research.google.com/assets/colab-badge.svg\" alt=\"Open In Colab\"/></a>"
      ]
    },
    {
      "cell_type": "markdown",
      "metadata": {
        "id": "a8Q4-6OyMPjy",
        "colab_type": "text"
      },
      "source": [
        "# 제품들과 서비스 속 적용된 인공지능 기술\n",
        "\n",
        "***\n",
        "\n",
        "1. 언어 \n",
        " - AI & 인간 지능 결합 미디어 모니터링 분석 서비스\n",
        "[위고몬](https://www.kyongbuk.co.kr/news/articleView.html?idxno=2041629)\n",
        "2. 음성\n",
        " - 책 읽어주는 음성인식 서비스\n",
        " [클로바 음성인식](https://www.hankyung.com/it/article/2020052917551)\n",
        "3. 이미지\n",
        " - 패션 이커머스 내에서 상품 데이터와 쇼핑 히스토리를 분석해 소비자 개인 맞춤 스타일을 제안하는 서비스 [픽셀스타일](http://it.chosun.com/site/data/html_dir/2020/06/01/2020060101612.html)\n",
        "4. 자율주행\n",
        " - 우편물류 접수, 구분, 운송, 배달 서비스 [자율주행 이동우체국과 우편물 배달로봇, 집배원 추종로봇](https://www.etnews.com/20200528000299)"
      ]
    }
  ]
}